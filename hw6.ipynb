{
 "cells": [
  {
   "cell_type": "markdown",
   "metadata": {
    "collapsed": true
   },
   "source": [
    "## Q1.\n",
    "\n",
    "Add a __setitem__ to the python linked list implementation from the lecture (this past wednesday)."
   ]
  },
  {
   "cell_type": "code",
   "execution_count": 85,
   "metadata": {
    "collapsed": true
   },
   "outputs": [],
   "source": [
    "from doctest import run_docstring_examples as dtest\n",
    "import numbers\n",
    "import reprlib\n",
    "class LL:\n",
    "    \"\"\"\n",
    "    >>> A = LL()  \n",
    "    >>> A[0]\n",
    "    Traceback (most recent call last):\n",
    "        ...\n",
    "    IndexError: trying to index an empty LL\n",
    "    >>> A.insert_front(1)\n",
    "    >>> A[0]\n",
    "    1\n",
    "    >>> A.insert_back(2)\n",
    "    >>> A[1]\n",
    "    2\n",
    "    >>> A\n",
    "    LL([1,...])\n",
    "    >>> myll = LL.from_components([1,2])\n",
    "    >>> myll[1]\n",
    "    1\n",
    "    >>> len(myll)\n",
    "    2\n",
    "    >>> myll[2]\n",
    "    Traceback (most recent call last):\n",
    "        ...\n",
    "    IndexError: LL index out of range\n",
    "    >>> myll[0:1]\n",
    "    Traceback (most recent call last):\n",
    "        ...\n",
    "    TypeError: LL indices must be integers\n",
    "    >>> myll[1]=2\n",
    "    >>> myll[1]\n",
    "    2\n",
    "    >>> myll[2]=2\n",
    "    Traceback (most recent call last):\n",
    "        ...\n",
    "    IndexError: LL index out of range\n",
    "    >>> myll[0:1]=2\n",
    "    Traceback (most recent call last):\n",
    "        ...\n",
    "    TypeError: LL indices must be integers\n",
    "    \"\"\"\n",
    "    @classmethod\n",
    "    def from_components(cls, components):\n",
    "        inst = cls(components[0])\n",
    "        for c in components[1:]:\n",
    "            inst.insert_front(c)\n",
    "        return inst\n",
    "        \n",
    "    def __init__(self, head=None):\n",
    "        if head is None:\n",
    "            self._headNode = None\n",
    "        else:\n",
    "            self._headNode = [head, None]\n",
    "            \n",
    "    def insert_front(self, element):\n",
    "        new_node = [element, None]\n",
    "        new_node[1] = self._headNode\n",
    "        self._headNode = new_node\n",
    "        \n",
    "    def insert_back(self, element):\n",
    "        new_node = [element, None]\n",
    "        curr_ptr = self._headNode\n",
    "        while curr_ptr[1] is not None:\n",
    "            curr_ptr = curr_ptr[1]\n",
    "        curr_ptr[1]= new_node\n",
    "        \n",
    "    def __repr__(self):\n",
    "        class_name = type(self).__name__\n",
    "        if len(self)==0:\n",
    "            components=\"\"\n",
    "        else:\n",
    "            components = reprlib.repr(self[0])\n",
    "        return '{}([{},...])'.format(class_name,components)\n",
    "\n",
    "\n",
    "    def __len__(self):\n",
    "        curr_ptr = self._headNode\n",
    "        count = 0\n",
    "        if curr_ptr==None:\n",
    "            return 0\n",
    "        while 1:\n",
    "            count = count + 1\n",
    "            if curr_ptr[1] is None:\n",
    "                break\n",
    "            curr_ptr = curr_ptr[1]\n",
    "        return count    \n",
    "    \n",
    "    def __getitem__(self, index):\n",
    "        class_name = type(self).__name__\n",
    "        if isinstance(index, numbers.Integral): \n",
    "            curr_ptr = self._headNode\n",
    "            if curr_ptr==None:\n",
    "                msg = 'trying to index an empty {class_name}' \n",
    "                raise IndexError(msg.format(class_name=class_name))\n",
    "            next_ptr = self._headNode[1]\n",
    "            count = 0\n",
    "            while 1:\n",
    "                if index == count:\n",
    "                    return curr_ptr[0]\n",
    "                if curr_ptr[1] is None:\n",
    "                    msg = '{class_name} index out of range' \n",
    "                    raise IndexError(msg.format(class_name=class_name))       \n",
    "                count += 1\n",
    "                curr_ptr = curr_ptr[1]\n",
    "        else:\n",
    "            msg = '{class_name} indices must be integers' \n",
    "            raise TypeError(msg.format(class_name=class_name))\n",
    "    \n",
    "    def __setitem__(self, index, value):\n",
    "        class_name = type(self).__name__\n",
    "        if isinstance(index, numbers.Integral): \n",
    "            curr_ptr = self._headNode\n",
    "            if curr_ptr==None:\n",
    "                msg = 'trying to index an empty {class_name}' \n",
    "                raise IndexError(msg.format(class_name=class_name))\n",
    "            next_ptr = self._headNode[1]\n",
    "            count = 0\n",
    "            while 1:\n",
    "                if index == count:\n",
    "                    curr_ptr[0] = value\n",
    "                    return\n",
    "                if curr_ptr[1] is None:\n",
    "                    msg = '{class_name} index out of range' \n",
    "                    raise IndexError(msg.format(class_name=class_name))       \n",
    "                count += 1\n",
    "                curr_ptr = curr_ptr[1]\n",
    "        else:\n",
    "            msg = '{class_name} indices must be integers' \n",
    "            raise TypeError(msg.format(class_name=class_name))"
   ]
  },
  {
   "cell_type": "code",
   "execution_count": 86,
   "metadata": {
    "collapsed": false
   },
   "outputs": [
    {
     "name": "stdout",
     "output_type": "stream",
     "text": [
      "Finding tests in NoName\n",
      "Trying:\n",
      "    A = LL()  \n",
      "Expecting nothing\n",
      "ok\n",
      "Trying:\n",
      "    A[0]\n",
      "Expecting:\n",
      "    Traceback (most recent call last):\n",
      "        ...\n",
      "    IndexError: trying to index an empty LL\n",
      "ok\n",
      "Trying:\n",
      "    A.insert_front(1)\n",
      "Expecting nothing\n",
      "ok\n",
      "Trying:\n",
      "    A[0]\n",
      "Expecting:\n",
      "    1\n",
      "ok\n",
      "Trying:\n",
      "    A.insert_back(2)\n",
      "Expecting nothing\n",
      "ok\n",
      "Trying:\n",
      "    A[1]\n",
      "Expecting:\n",
      "    2\n",
      "ok\n",
      "Trying:\n",
      "    A\n",
      "Expecting:\n",
      "    LL([1,...])\n",
      "ok\n",
      "Trying:\n",
      "    myll = LL.from_components([1,2])\n",
      "Expecting nothing\n",
      "ok\n",
      "Trying:\n",
      "    myll[1]\n",
      "Expecting:\n",
      "    1\n",
      "ok\n",
      "Trying:\n",
      "    len(myll)\n",
      "Expecting:\n",
      "    2\n",
      "ok\n",
      "Trying:\n",
      "    myll[2]\n",
      "Expecting:\n",
      "    Traceback (most recent call last):\n",
      "        ...\n",
      "    IndexError: LL index out of range\n",
      "ok\n",
      "Trying:\n",
      "    myll[0:1]\n",
      "Expecting:\n",
      "    Traceback (most recent call last):\n",
      "        ...\n",
      "    TypeError: LL indices must be integers\n",
      "ok\n",
      "Trying:\n",
      "    myll[1]=2\n",
      "Expecting nothing\n",
      "ok\n",
      "Trying:\n",
      "    myll[1]\n",
      "Expecting:\n",
      "    2\n",
      "ok\n",
      "Trying:\n",
      "    myll[2]=2\n",
      "Expecting:\n",
      "    Traceback (most recent call last):\n",
      "        ...\n",
      "    IndexError: LL index out of range\n",
      "ok\n",
      "Trying:\n",
      "    myll[0:1]=2\n",
      "Expecting:\n",
      "    Traceback (most recent call last):\n",
      "        ...\n",
      "    TypeError: LL indices must be integers\n",
      "ok\n"
     ]
    }
   ],
   "source": [
    "from doctest import run_docstring_examples as dtest\n",
    "dtest(LL, globals(), verbose = True)"
   ]
  },
  {
   "cell_type": "markdown",
   "metadata": {},
   "source": [
    "## Q2.\n",
    "\n",
    "An online mean and standard deviation algorithm.\n",
    "\n",
    "Below is a function to generate a potentially infinite stream of 1-D data."
   ]
  },
  {
   "cell_type": "code",
   "execution_count": 87,
   "metadata": {
    "collapsed": false
   },
   "outputs": [],
   "source": [
    "from random import normalvariate, random\n",
    "from itertools import count\n",
    "def make_data(m, stop=None):\n",
    "    for _ in count():\n",
    "        if stop and _ > stop:\n",
    "            break\n",
    "        yield 1.0e09 + normalvariate(0, m*random() )\n",
    "        "
   ]
  },
  {
   "cell_type": "markdown",
   "metadata": {},
   "source": [
    "Here is an implementation of an online mean algorithm..see http://www.johndcook.com/blog/standard_deviation/ and the link to http://www.johndcook.com/blog/2008/09/26/comparing-three-methods-of-computing-standard-deviation/ in-between. (Convince yourselves of the formulas...)"
   ]
  },
  {
   "cell_type": "code",
   "execution_count": 88,
   "metadata": {
    "collapsed": true
   },
   "outputs": [],
   "source": [
    "def online_mean(iterator):\n",
    "    n = 0\n",
    "    mu = 0\n",
    "    for value in iterator:\n",
    "        n += 1\n",
    "        delta = value - mu\n",
    "        mu = mu + delta/n\n",
    "        yield mu"
   ]
  },
  {
   "cell_type": "markdown",
   "metadata": {},
   "source": [
    "We use out generator functions to implement iterators:"
   ]
  },
  {
   "cell_type": "code",
   "execution_count": 89,
   "metadata": {
    "collapsed": false
   },
   "outputs": [
    {
     "data": {
      "text/plain": [
       "[999999996.7322397,\n",
       " 999999997.067109,\n",
       " 999999998.554178,\n",
       " 1000000000.0291934,\n",
       " 1000000000.778215,\n",
       " 999999999.289345,\n",
       " 999999999.9436615,\n",
       " 999999996.1617651,\n",
       " 999999999.9853107,\n",
       " 1000000004.7806776,\n",
       " 999999998.363387]"
      ]
     },
     "execution_count": 89,
     "metadata": {},
     "output_type": "execute_result"
    }
   ],
   "source": [
    "g = make_data(5, 10)\n",
    "list(g)"
   ]
  },
  {
   "cell_type": "code",
   "execution_count": 90,
   "metadata": {
    "collapsed": false
   },
   "outputs": [
    {
     "name": "stdout",
     "output_type": "stream",
     "text": [
      "<class 'generator'>\n"
     ]
    },
    {
     "data": {
      "text/plain": [
       "[999999998.9838532,\n",
       " 999999999.8854184,\n",
       " 1000000000.0546975,\n",
       " 999999999.1418868,\n",
       " 999999999.3338722,\n",
       " 999999999.3974117,\n",
       " 999999999.3017685,\n",
       " 999999999.4676077,\n",
       " 999999999.3343083,\n",
       " 999999999.448395,\n",
       " 999999999.4452598,\n",
       " 999999998.8332307,\n",
       " 999999997.8752663,\n",
       " 999999997.8489984,\n",
       " 999999997.4465089,\n",
       " 999999997.6028026,\n",
       " 999999998.2615627,\n",
       " 999999998.3344443,\n",
       " 999999998.4236051,\n",
       " 999999998.3358638,\n",
       " 999999998.3950274,\n",
       " 999999998.4740994,\n",
       " 999999998.4934752,\n",
       " 999999998.2233713,\n",
       " 999999998.2933767,\n",
       " 999999998.3635161,\n",
       " 999999998.3491343,\n",
       " 999999998.3597692,\n",
       " 999999998.437292,\n",
       " 999999998.4900417,\n",
       " 999999998.5516591,\n",
       " 999999998.6298765,\n",
       " 999999998.6513801,\n",
       " 999999998.631462,\n",
       " 999999998.6729208,\n",
       " 999999998.7164395,\n",
       " 999999998.6849855,\n",
       " 999999998.7068343,\n",
       " 999999998.5762659,\n",
       " 999999998.4892727,\n",
       " 999999998.4849955,\n",
       " 999999998.5138518,\n",
       " 999999998.5887558,\n",
       " 999999998.5949937,\n",
       " 999999998.6022456,\n",
       " 999999998.6808084,\n",
       " 999999998.6945211,\n",
       " 999999998.7201726,\n",
       " 999999998.7438043,\n",
       " 999999998.7735549,\n",
       " 999999998.7933527,\n",
       " 999999998.8289672,\n",
       " 999999998.7905233,\n",
       " 999999998.8116122,\n",
       " 999999998.7284275,\n",
       " 999999998.7508479,\n",
       " 999999998.6860223,\n",
       " 999999998.7371192,\n",
       " 999999998.7759461,\n",
       " 999999998.7953746,\n",
       " 999999998.8340186,\n",
       " 999999998.8586009,\n",
       " 999999998.8968273,\n",
       " 999999998.9074297,\n",
       " 999999998.9241416,\n",
       " 999999998.9225469,\n",
       " 999999998.9115058,\n",
       " 999999998.8588948,\n",
       " 999999998.8423094,\n",
       " 999999998.847196,\n",
       " 999999998.929529,\n",
       " 999999998.95222,\n",
       " 999999998.9820443,\n",
       " 999999999.052365,\n",
       " 999999999.0276923,\n",
       " 999999999.0164373,\n",
       " 999999999.026902,\n",
       " 999999999.0575105,\n",
       " 999999999.1732736,\n",
       " 999999999.1130078,\n",
       " 999999999.1239737,\n",
       " 999999999.1252171,\n",
       " 999999999.141253,\n",
       " 999999999.1512418,\n",
       " 999999999.0513908,\n",
       " 999999999.0636129,\n",
       " 999999999.0620787,\n",
       " 999999999.0457306,\n",
       " 999999999.0081803,\n",
       " 999999999.0819614,\n",
       " 999999998.995506,\n",
       " 999999999.0060432,\n",
       " 999999998.996934,\n",
       " 999999999.0006479,\n",
       " 999999999.0370102,\n",
       " 999999999.0544797,\n",
       " 999999999.0599834,\n",
       " 999999999.0572138,\n",
       " 999999999.0530393,\n",
       " 999999999.0610976,\n",
       " 999999999.0528215]"
      ]
     },
     "execution_count": 90,
     "metadata": {},
     "output_type": "execute_result"
    }
   ],
   "source": [
    "g = online_mean(make_data(5, 100))\n",
    "print(type(g))\n",
    "list(g)"
   ]
  },
  {
   "cell_type": "markdown",
   "metadata": {},
   "source": [
    "### 2.1\n",
    "\n",
    "Implement the standard deviation algorithm as a generator function as\n",
    "\n",
    "```python\n",
    "def online_mean_dev(iterator):\n",
    "    BLA BLA\n",
    "    if n > 1:\n",
    "        stddev = math.sqrt(dev_accum/(n-1))\n",
    "        yield (n, value, mu, stddev)\n",
    "```"
   ]
  },
  {
   "cell_type": "code",
   "execution_count": 91,
   "metadata": {
    "collapsed": false
   },
   "outputs": [],
   "source": [
    "# your code here\n",
    "import math\n",
    "def online_mean_dev(iterator):\n",
    "    n = 0\n",
    "    mu = 0\n",
    "    dev_accum = 0\n",
    "    stddev = 0\n",
    "    \n",
    "    for value in iterator:\n",
    "        n += 1\n",
    "        delta = value - mu\n",
    "        mu = mu + delta/n\n",
    "        dev_accum = dev_accum + delta * (value-mu)\n",
    "        \n",
    "        if n > 1:\n",
    "            stddev = math.sqrt(dev_accum/(n-1))\n",
    "            \n",
    "        yield (n, value, mu, stddev)"
   ]
  },
  {
   "cell_type": "markdown",
   "metadata": {},
   "source": [
    "Here we make 100000 element data, and run this iterator on it (imagine running this on a time-series being slowly read from disk"
   ]
  },
  {
   "cell_type": "code",
   "execution_count": 92,
   "metadata": {
    "collapsed": false
   },
   "outputs": [],
   "source": [
    "data_with_stats = online_mean_dev(make_data(5, 100000))"
   ]
  },
  {
   "cell_type": "markdown",
   "metadata": {},
   "source": [
    "## Q3.\n",
    "\n",
    "Let's do Anomaly detection. Write a routine `is_ok`:\n",
    "\n",
    "```python\n",
    "def is_ok(level, t)\n",
    "```\n",
    "\n",
    "which takes a tuple like the one yielded by your code above and returns True if the value is inbetween `level`-$\\sigma$ of the mean."
   ]
  },
  {
   "cell_type": "code",
   "execution_count": 93,
   "metadata": {
    "collapsed": true
   },
   "outputs": [],
   "source": [
    "#your code here\n",
    "from scipy import stats\n",
    "def is_ok(level, t):\n",
    "    value = t[1]\n",
    "    mu = t[2]\n",
    "    stddev = t[3]\n",
    "    lower = mu - level * stddev\n",
    "    upper = mu + level * stddev\n",
    "    if value>=lower and value <=upper:\n",
    "        return True\n",
    "    return False\n"
   ]
  },
  {
   "cell_type": "markdown",
   "metadata": {},
   "source": [
    "We use this function to create a predicate passed through to `itertools.filterfalse` which is then used to obtain an iterator on the anomalies."
   ]
  },
  {
   "cell_type": "code",
   "execution_count": 94,
   "metadata": {
    "collapsed": true
   },
   "outputs": [],
   "source": [
    "from itertools import filterfalse\n",
    "pred = lambda t: is_ok(5, t)\n",
    "anomalies = filterfalse(pred, data_with_stats)"
   ]
  },
  {
   "cell_type": "markdown",
   "metadata": {},
   "source": [
    "We materialize the anomalies..."
   ]
  },
  {
   "cell_type": "code",
   "execution_count": 95,
   "metadata": {
    "collapsed": false
   },
   "outputs": [
    {
     "data": {
      "text/plain": [
       "[(1171, 999999983.1924756, 1000000000.0736277, 2.83770888745988),\n",
       " (2473, 999999984.6866462, 1000000000.0664077, 2.8729562964113327),\n",
       " (4167, 999999985.9373232, 1000000000.0497262, 2.8222030899148263),\n",
       " (7638, 1000000017.6584079, 1000000000.0040288, 2.8759312782835065),\n",
       " (17332, 999999983.1278902, 999999999.9896454, 2.8898654621508184),\n",
       " (24906, 1000000016.9935416, 999999999.9788903, 2.889449398808173),\n",
       " (32188, 999999982.4347521, 999999999.983201, 2.8866140873611026),\n",
       " (33807, 1000000014.771307, 999999999.9826205, 2.8863018980433597),\n",
       " (33998, 1000000016.659049, 999999999.9842181, 2.888479303921697),\n",
       " (36642, 1000000014.6622221, 999999999.9823908, 2.8908088021269593),\n",
       " (37304, 999999982.9713514, 999999999.9853393, 2.8952839716229053),\n",
       " (48084, 1000000016.1690311, 999999999.9916173, 2.88763426574988),\n",
       " (55139, 999999983.6962866, 999999999.9896717, 2.886718591591484),\n",
       " (58145, 1000000014.4831449, 999999999.9926405, 2.8850120155809535),\n",
       " (60027, 1000000017.2429372, 999999999.9923773, 2.887950380228838),\n",
       " (64272, 999999984.0747819, 999999999.9915947, 2.8853152413211043),\n",
       " (68276, 1000000015.4322032, 999999999.9891475, 2.8845749269692393),\n",
       " (69157, 1000000015.8762634, 999999999.9899821, 2.8848577549850107),\n",
       " (69216, 999999984.7166984, 999999999.9896072, 2.8848556021746545),\n",
       " (72791, 999999982.195341, 999999999.986003, 2.8826601196800445),\n",
       " (74787, 999999985.4424806, 999999999.9854847, 2.884954215134115),\n",
       " (77856, 999999985.373088, 999999999.9858334, 2.884604595792313),\n",
       " (79036, 999999984.8896838, 999999999.9875122, 2.884925273566135),\n",
       " (83699, 1000000016.0065795, 999999999.986042, 2.8849946458464304),\n",
       " (83827, 999999984.5016097, 999999999.9859141, 2.8854059768936025),\n",
       " (83929, 999999980.8349109, 999999999.985819, 2.886098695804999),\n",
       " (86628, 1000000015.883492, 999999999.985975, 2.8841109219913688),\n",
       " (87834, 999999984.165884, 999999999.985771, 2.884217311544496),\n",
       " (90109, 1000000015.2473378, 999999999.9868178, 2.8855154681284305),\n",
       " (90711, 1000000016.4872806, 999999999.9872344, 2.886306540434358),\n",
       " (94316, 1000000015.9222397, 999999999.9883183, 2.8851047927594244),\n",
       " (96260, 999999983.0581017, 999999999.9889286, 2.8853280965910115)]"
      ]
     },
     "execution_count": 95,
     "metadata": {},
     "output_type": "execute_result"
    }
   ],
   "source": [
    "list(anomalies)#materialize"
   ]
  },
  {
   "cell_type": "markdown",
   "metadata": {},
   "source": [
    "## To think of, but not hand in\n",
    "\n",
    "What kinds of anomalies will this algorithm pick up? What kinds would a shorter \"window\" of anomaly detection, like 100 points around the time in question pick? How might you create an algorithm which does window based averaging? (hint: the window size is small compared to the time series size). \n",
    "\n",
    "Finally think a bit of how you might implement all of this in a production environment..remember that data streaming in might get backed up when you handle an anomaly.\n",
    "\n",
    "(Some inspiration might accrue if you look at the docs for `collections.deque`)."
   ]
  }
 ],
 "metadata": {
  "anaconda-cloud": {},
  "kernelspec": {
   "display_name": "Python [py35]",
   "language": "python",
   "name": "Python [py35]"
  },
  "language_info": {
   "codemirror_mode": {
    "name": "ipython",
    "version": 3
   },
   "file_extension": ".py",
   "mimetype": "text/x-python",
   "name": "python",
   "nbconvert_exporter": "python",
   "pygments_lexer": "ipython3",
   "version": "3.5.2"
  }
 },
 "nbformat": 4,
 "nbformat_minor": 0
}
